{
 "cells": [
  {
   "cell_type": "code",
   "execution_count": 1,
   "metadata": {},
   "outputs": [
    {
     "data": {
      "text/plain": [
       "'cpu'"
      ]
     },
     "execution_count": 1,
     "metadata": {},
     "output_type": "execute_result"
    }
   ],
   "source": [
    "import torch\n",
    "device = 'cuda' if torch.cuda.is_available() else 'cpu'\n",
    "device"
   ]
  },
  {
   "cell_type": "code",
   "execution_count": null,
   "metadata": {},
   "outputs": [],
   "source": [
    "#conda create -n <ENVNAME> python=3.10\n",
    "#conda activate <ENVNAME>\n",
    "#conda install jupyter notebook; python3 -m ipykernel install --user --name RL\n",
    "#conda install pytorch torchvision -c pytorch\n",
    "!pip install -q tqdm d4rl stable-baselines3 seaborn scikit-learn colorama tensorboard tensorboardX opencv-python structlog \"gym[classic_control]\""
   ]
  },
  {
   "cell_type": "code",
   "execution_count": null,
   "metadata": {},
   "outputs": [],
   "source": [
    "# Run only once.\n",
    "# Downloading `d3rlpy` package from source.\n",
    "\n",
    "#!git clone https://github.com/takuseno/d3rlpy d3rlpy_GitHub\n",
    "#!pip3 install -e d3rlpy_GitHub/\n",
    "#!mv d3rlpy_GitHub/d3rlpy .\n",
    "#!rm -rf d3rlpy_GitHub/"
   ]
  },
  {
   "cell_type": "code",
   "execution_count": null,
   "metadata": {},
   "outputs": [],
   "source": [
    "# Reflection of modifications:\n",
    "# We will implement SAM optimizer into this package.\n",
    "\n",
    "#!cp -rf changes/algos/* d3rlpy/algos/\n",
    "#!rm -rf changes/algos/\n",
    "#!mv -f changes/* d3rlpy/"
   ]
  },
  {
   "cell_type": "code",
   "execution_count": 2,
   "metadata": {},
   "outputs": [],
   "source": [
    "# Ignore This\n",
    "#import os\n",
    "#os.environ['CC']=\"/opt/homebrew/bin/gcc-12\"\n",
    "#os.environ['CXX']=\"/opt/homebrew/bin/g++-12\"\n",
    "#import d4rl  # solely running this line, we meet GCC error"
   ]
  },
  {
   "cell_type": "markdown",
   "metadata": {},
   "source": [
    "## Get Dataset"
   ]
  },
  {
   "cell_type": "code",
   "execution_count": 3,
   "metadata": {},
   "outputs": [],
   "source": [
    "import d3rlpy\n",
    "from sklearn.model_selection import train_test_split"
   ]
  },
  {
   "cell_type": "code",
   "execution_count": 4,
   "metadata": {},
   "outputs": [],
   "source": [
    "dataset, env = d3rlpy.datasets.get_pendulum()\n",
    "task_name='Pendulum'"
   ]
  },
  {
   "cell_type": "code",
   "execution_count": 5,
   "metadata": {},
   "outputs": [
    {
     "data": {
      "text/plain": [
       "array([-0.909701 ,  0.4152639,  0.7662913], dtype=float32)"
      ]
     },
     "execution_count": 5,
     "metadata": {},
     "output_type": "execute_result"
    }
   ],
   "source": [
    "env.reset()"
   ]
  },
  {
   "cell_type": "code",
   "execution_count": 6,
   "metadata": {},
   "outputs": [
    {
     "data": {
      "text/plain": [
       "(400, 100)"
      ]
     },
     "execution_count": 6,
     "metadata": {},
     "output_type": "execute_result"
    }
   ],
   "source": [
    "train_episodes, test_episodes = train_test_split(dataset, test_size=0.2)\n",
    "len(train_episodes), len(test_episodes)"
   ]
  },
  {
   "cell_type": "code",
   "execution_count": 7,
   "metadata": {},
   "outputs": [
    {
     "name": "stdout",
     "output_type": "stream",
     "text": [
      "(199, 3) (199, 1) 198\n"
     ]
    }
   ],
   "source": [
    "epi0 = train_episodes[0]\n",
    "print(epi0.observations.shape, epi0.actions.shape, len(epi0.transitions))"
   ]
  },
  {
   "cell_type": "markdown",
   "metadata": {},
   "source": [
    "## Algorithms"
   ]
  },
  {
   "cell_type": "code",
   "execution_count": 8,
   "metadata": {},
   "outputs": [],
   "source": [
    "#!pip3 install tensorboard --upgrade\n",
    "%load_ext tensorboard"
   ]
  },
  {
   "cell_type": "code",
   "execution_count": 23,
   "metadata": {},
   "outputs": [],
   "source": [
    "from d3rlpy.models.optimizers import OptimizerFactory\n",
    "import torch\n",
    "from torch.optim import SGD, Adam\n",
    "from sam import SAM\n",
    "# optimizer\n",
    "# Learning rates: Use default values.\n",
    "# Notice: `base_optimizer` must be a `str`\n",
    "rho = 0.05\n",
    "opt_factories = {\n",
    "    #'SGD': OptimizerFactory(optim_cls=SGD),\n",
    "    'Adam': OptimizerFactory(optim_cls=Adam),\n",
    "    #'SamSGD': OptimizerFactory(optim_cls=SAM, base_optimizer=\"SGD\", rho=rho),\n",
    "    'SamAdam': OptimizerFactory(optim_cls=SAM, base_optimizer=\"Adam\", rho=rho)\n",
    "}"
   ]
  },
  {
   "cell_type": "code",
   "execution_count": 101,
   "metadata": {},
   "outputs": [],
   "source": [
    "# optimizers for temperature and alpha: we fix them by Adam\n",
    "# otherwise we may or may not apply SAM.\n",
    "algo_opt_lists = {\n",
    "    'DDPG': ['actor_optim_factory', 'critic_optim_factory'],\n",
    "    'SAC': ['actor_optim_factory', 'critic_optim_factory'],\n",
    "    'TD3': ['actor_optim_factory', 'critic_optim_factory'],\n",
    "    'BCQ': ['actor_optim_factory', 'critic_optim_factory', 'imitator_optim_factory'],\n",
    "    'BEAR': ['actor_optim_factory', 'critic_optim_factory', 'imitator_optim_factory'],\n",
    "    'CQL': ['actor_optim_factory', 'critic_optim_factory'],\n",
    "    'AWAC': ['actor_optim_factory', 'critic_optim_factory'],\n",
    "    'IQL': ['actor_optim_factory', 'critic_optim_factory'],\n",
    "    'BC': ['optim_factory'],\n",
    "}\n",
    "misc_opt_kwargs={\n",
    "    'temp_optim_factory': opt_factories['Adam'],\n",
    "    'alpha_optim_factory': opt_factories['Adam']\n",
    "}"
   ]
  },
  {
   "cell_type": "code",
   "execution_count": 99,
   "metadata": {},
   "outputs": [],
   "source": [
    "import os\n",
    "\n",
    "def run(algo, opt_dict, train_episodes, test_episodes, use_gpu=False, n_epochs=20, pretrained_path=None):\n",
    "    \"\"\"\n",
    "    - algo (d3rlpy.algos.AlgoBase): RL algorithms (e.g. DQN, DDPG, CQL, ...)\n",
    "    - opt_dict (dict[str->str]): optimizer info in strings (e.g. {'actor_optim_factory': 'SGD', 'critic_optim_factor': 'SamAdam'})\n",
    "    - train_episodes: training data\n",
    "    - test_episodes: evaluation data\n",
    "    - use_gpu (bool): use CUDA if True\n",
    "    - n_epochs (int): number of epochs\n",
    "    \"\"\"\n",
    "\n",
    "    opt_kwargs = {opt_type: opt_factories[opt_name] for opt_type, opt_name in opt_dict.items()}\n",
    "    opt_string = '_'.join(sum([[opt_type.split('_')[0], opt_name] for opt_type, opt_name in opt_dict.items()], start=[]))\n",
    "    experiment_name = f\"{algo.__name__}_{opt_string}\"\n",
    "    opt_kwargs.update(misc_opt_kwargs)\n",
    "    model = algo(use_gpu=use_gpu, **opt_kwargs)\n",
    "    \n",
    "    if pretrained_path:\n",
    "        model.build_with_env(env)\n",
    "        model.load_model(pretrained_path)\n",
    "\n",
    "    # Train\n",
    "    model.fit(\n",
    "        train_episodes,\n",
    "        eval_episodes=None if algo.__name__=='BC' else test_episodes,\n",
    "        experiment_name=os.path.join(task_name, experiment_name),\n",
    "        n_epochs=n_epochs,\n",
    "        scorers={\n",
    "            'environment': d3rlpy.metrics.evaluate_on_environment(env),\n",
    "            'td_error': d3rlpy.metrics.td_error_scorer, # smaller is better\n",
    "            'advantage': d3rlpy.metrics.discounted_sum_of_advantage_scorer, # smaller is better\n",
    "            'value_scale': d3rlpy.metrics.average_value_estimation_scorer # smaller is better\n",
    "        },\n",
    "        tensorboard_dir=\"tensorboard\",\n",
    "        verbose=False,\n",
    "        show_progress=False,\n",
    "        save_interval=n_epochs-1,\n",
    "    )\n",
    "\n",
    "    # Deployment\n",
    "    writer = \n",
    "    print(\"Deployment:\", d3rlpy.metrics.evaluate_on_environment(env)(model))\n",
    "    print()\n",
    "    return model"
   ]
  },
  {
   "cell_type": "code",
   "execution_count": 100,
   "metadata": {},
   "outputs": [],
   "source": [
    "from itertools import product\n",
    "from d3rlpy.algos import DDPG, SAC, TD3, BCQ, BEAR, CQL, AWAC, IQL, BC"
   ]
  },
  {
   "cell_type": "code",
   "execution_count": 98,
   "metadata": {},
   "outputs": [
    {
     "name": "stdout",
     "output_type": "stream",
     "text": [
      "2022-12-01 03:33:49 [warning  ] Unused arguments are passed.   alpha_optim_factory=d3rlpy.models.optimizers.OptimizerFactory(optim_cls='Adam') temp_optim_factory=d3rlpy.models.optimizers.OptimizerFactory(optim_cls='Adam')\n",
      "2022-12-01 03:33:49 [debug    ] RoundIterator is selected.\n",
      "2022-12-01 03:33:49 [info     ] Directory is created at d3rlpy_logs/Pendulum/DDPG_actor_Adam_critic_Adam_20221201033349\n",
      "2022-12-01 03:33:49 [debug    ] Building models...\n",
      "2022-12-01 03:33:49 [debug    ] Models have been built.\n",
      "2022-12-01 03:35:35 [info     ] Model parameters are saved to d3rlpy_logs/Pendulum/DDPG_actor_Adam_critic_Adam_20221201033349/model_38808.pt\n",
      "Deployment: -1338.9880413035285\n",
      "\n",
      "2022-12-01 03:35:38 [warning  ] Unused arguments are passed.   alpha_optim_factory=d3rlpy.models.optimizers.OptimizerFactory(optim_cls='Adam') temp_optim_factory=d3rlpy.models.optimizers.OptimizerFactory(optim_cls='Adam')\n",
      "2022-12-01 03:35:38 [debug    ] RoundIterator is selected.\n",
      "2022-12-01 03:35:38 [info     ] Directory is created at d3rlpy_logs/Pendulum/DDPG_actor_Adam_critic_SamAdam_20221201033538\n",
      "2022-12-01 03:35:38 [debug    ] Building models...\n",
      "2022-12-01 03:35:38 [debug    ] Models have been built.\n",
      "2022-12-01 03:37:44 [info     ] Model parameters are saved to d3rlpy_logs/Pendulum/DDPG_actor_Adam_critic_SamAdam_20221201033538/model_38808.pt\n",
      "Deployment: -888.3039452453089\n",
      "\n",
      "2022-12-01 03:37:46 [warning  ] Unused arguments are passed.   alpha_optim_factory=d3rlpy.models.optimizers.OptimizerFactory(optim_cls='Adam') temp_optim_factory=d3rlpy.models.optimizers.OptimizerFactory(optim_cls='Adam')\n",
      "2022-12-01 03:37:46 [debug    ] RoundIterator is selected.\n",
      "2022-12-01 03:37:46 [info     ] Directory is created at d3rlpy_logs/Pendulum/DDPG_actor_SamAdam_critic_Adam_20221201033746\n",
      "2022-12-01 03:37:46 [debug    ] Building models...\n",
      "2022-12-01 03:37:46 [debug    ] Models have been built.\n",
      "2022-12-01 03:39:56 [info     ] Model parameters are saved to d3rlpy_logs/Pendulum/DDPG_actor_SamAdam_critic_Adam_20221201033746/model_38808.pt\n",
      "Deployment: -1331.1634354699604\n",
      "\n",
      "2022-12-01 03:39:59 [warning  ] Unused arguments are passed.   alpha_optim_factory=d3rlpy.models.optimizers.OptimizerFactory(optim_cls='Adam') temp_optim_factory=d3rlpy.models.optimizers.OptimizerFactory(optim_cls='Adam')\n",
      "2022-12-01 03:39:59 [debug    ] RoundIterator is selected.\n",
      "2022-12-01 03:39:59 [info     ] Directory is created at d3rlpy_logs/Pendulum/DDPG_actor_SamAdam_critic_SamAdam_20221201033959\n",
      "2022-12-01 03:39:59 [debug    ] Building models...\n",
      "2022-12-01 03:39:59 [debug    ] Models have been built.\n",
      "2022-12-01 03:42:31 [info     ] Model parameters are saved to d3rlpy_logs/Pendulum/DDPG_actor_SamAdam_critic_SamAdam_20221201033959/model_38808.pt\n",
      "Deployment: -1037.4938034617053\n",
      "\n",
      "2022-12-01 03:42:34 [warning  ] Unused arguments are passed.   alpha_optim_factory=d3rlpy.models.optimizers.OptimizerFactory(optim_cls='Adam')\n",
      "2022-12-01 03:42:34 [debug    ] RoundIterator is selected.\n",
      "2022-12-01 03:42:34 [info     ] Directory is created at d3rlpy_logs/Pendulum/SAC_actor_Adam_critic_Adam_20221201034234\n",
      "2022-12-01 03:42:34 [debug    ] Building models...\n",
      "2022-12-01 03:42:34 [debug    ] Models have been built.\n",
      "2022-12-01 03:44:30 [info     ] Model parameters are saved to d3rlpy_logs/Pendulum/SAC_actor_Adam_critic_Adam_20221201034234/model_15141.pt\n",
      "Deployment: -1336.0193851345057\n",
      "\n",
      "2022-12-01 03:44:33 [warning  ] Unused arguments are passed.   alpha_optim_factory=d3rlpy.models.optimizers.OptimizerFactory(optim_cls='Adam')\n",
      "2022-12-01 03:44:33 [debug    ] RoundIterator is selected.\n",
      "2022-12-01 03:44:33 [info     ] Directory is created at d3rlpy_logs/Pendulum/SAC_actor_Adam_critic_SamAdam_20221201034433\n",
      "2022-12-01 03:44:33 [debug    ] Building models...\n",
      "2022-12-01 03:44:33 [debug    ] Models have been built.\n",
      "2022-12-01 03:46:58 [info     ] Model parameters are saved to d3rlpy_logs/Pendulum/SAC_actor_Adam_critic_SamAdam_20221201034433/model_15141.pt\n",
      "Deployment: -1350.702483713567\n",
      "\n",
      "2022-12-01 03:47:01 [warning  ] Unused arguments are passed.   alpha_optim_factory=d3rlpy.models.optimizers.OptimizerFactory(optim_cls='Adam')\n",
      "2022-12-01 03:47:01 [debug    ] RoundIterator is selected.\n",
      "2022-12-01 03:47:01 [info     ] Directory is created at d3rlpy_logs/Pendulum/SAC_actor_SamAdam_critic_Adam_20221201034701\n",
      "2022-12-01 03:47:01 [debug    ] Building models...\n",
      "2022-12-01 03:47:01 [debug    ] Models have been built.\n",
      "2022-12-01 03:49:27 [info     ] Model parameters are saved to d3rlpy_logs/Pendulum/SAC_actor_SamAdam_critic_Adam_20221201034701/model_15141.pt\n",
      "Deployment: -1045.2451673248543\n",
      "\n",
      "2022-12-01 03:49:30 [warning  ] Unused arguments are passed.   alpha_optim_factory=d3rlpy.models.optimizers.OptimizerFactory(optim_cls='Adam')\n",
      "2022-12-01 03:49:30 [debug    ] RoundIterator is selected.\n",
      "2022-12-01 03:49:30 [info     ] Directory is created at d3rlpy_logs/Pendulum/SAC_actor_SamAdam_critic_SamAdam_20221201034930\n",
      "2022-12-01 03:49:30 [debug    ] Building models...\n",
      "2022-12-01 03:49:30 [debug    ] Models have been built.\n",
      "2022-12-01 03:52:27 [info     ] Model parameters are saved to d3rlpy_logs/Pendulum/SAC_actor_SamAdam_critic_SamAdam_20221201034930/model_15141.pt\n",
      "Deployment: -1086.2448491359605\n",
      "\n",
      "2022-12-01 03:52:31 [warning  ] Unused arguments are passed.   alpha_optim_factory=d3rlpy.models.optimizers.OptimizerFactory(optim_cls='Adam') temp_optim_factory=d3rlpy.models.optimizers.OptimizerFactory(optim_cls='Adam')\n",
      "2022-12-01 03:52:31 [debug    ] RoundIterator is selected.\n",
      "2022-12-01 03:52:31 [info     ] Directory is created at d3rlpy_logs/Pendulum/TD3_actor_Adam_critic_Adam_20221201035231\n",
      "2022-12-01 03:52:31 [debug    ] Building models...\n",
      "2022-12-01 03:52:31 [debug    ] Models have been built.\n",
      "2022-12-01 03:53:51 [info     ] Model parameters are saved to d3rlpy_logs/Pendulum/TD3_actor_Adam_critic_Adam_20221201035231/model_15141.pt\n",
      "Deployment: -637.8777345927189\n",
      "\n",
      "2022-12-01 03:53:53 [warning  ] Unused arguments are passed.   alpha_optim_factory=d3rlpy.models.optimizers.OptimizerFactory(optim_cls='Adam') temp_optim_factory=d3rlpy.models.optimizers.OptimizerFactory(optim_cls='Adam')\n",
      "2022-12-01 03:53:53 [debug    ] RoundIterator is selected.\n",
      "2022-12-01 03:53:53 [info     ] Directory is created at d3rlpy_logs/Pendulum/TD3_actor_Adam_critic_SamAdam_20221201035353\n",
      "2022-12-01 03:53:53 [debug    ] Building models...\n",
      "2022-12-01 03:53:53 [debug    ] Models have been built.\n",
      "2022-12-01 03:55:38 [info     ] Model parameters are saved to d3rlpy_logs/Pendulum/TD3_actor_Adam_critic_SamAdam_20221201035353/model_15141.pt\n",
      "Deployment: -1256.851977089868\n",
      "\n",
      "2022-12-01 03:55:40 [warning  ] Unused arguments are passed.   alpha_optim_factory=d3rlpy.models.optimizers.OptimizerFactory(optim_cls='Adam') temp_optim_factory=d3rlpy.models.optimizers.OptimizerFactory(optim_cls='Adam')\n",
      "2022-12-01 03:55:40 [debug    ] RoundIterator is selected.\n",
      "2022-12-01 03:55:40 [info     ] Directory is created at d3rlpy_logs/Pendulum/TD3_actor_SamAdam_critic_Adam_20221201035540\n",
      "2022-12-01 03:55:40 [debug    ] Building models...\n",
      "2022-12-01 03:55:40 [debug    ] Models have been built.\n",
      "2022-12-01 03:57:10 [info     ] Model parameters are saved to d3rlpy_logs/Pendulum/TD3_actor_SamAdam_critic_Adam_20221201035540/model_15141.pt\n",
      "Deployment: -853.7500118628075\n",
      "\n",
      "2022-12-01 03:57:12 [warning  ] Unused arguments are passed.   alpha_optim_factory=d3rlpy.models.optimizers.OptimizerFactory(optim_cls='Adam') temp_optim_factory=d3rlpy.models.optimizers.OptimizerFactory(optim_cls='Adam')\n",
      "2022-12-01 03:57:12 [debug    ] RoundIterator is selected.\n",
      "2022-12-01 03:57:12 [info     ] Directory is created at d3rlpy_logs/Pendulum/TD3_actor_SamAdam_critic_SamAdam_20221201035712\n",
      "2022-12-01 03:57:12 [debug    ] Building models...\n",
      "2022-12-01 03:57:12 [debug    ] Models have been built.\n",
      "2022-12-01 03:59:10 [info     ] Model parameters are saved to d3rlpy_logs/Pendulum/TD3_actor_SamAdam_critic_SamAdam_20221201035712/model_15141.pt\n",
      "Deployment: -1276.964322811479\n",
      "\n",
      "2022-12-01 03:59:12 [warning  ] Unused arguments are passed.   alpha_optim_factory=d3rlpy.models.optimizers.OptimizerFactory(optim_cls='Adam') temp_optim_factory=d3rlpy.models.optimizers.OptimizerFactory(optim_cls='Adam')\n",
      "2022-12-01 03:59:12 [debug    ] RoundIterator is selected.\n",
      "2022-12-01 03:59:12 [info     ] Directory is created at d3rlpy_logs/Pendulum/BCQ_actor_Adam_critic_Adam_imitator_Adam_20221201035912\n",
      "2022-12-01 03:59:12 [debug    ] Building models...\n",
      "2022-12-01 03:59:12 [debug    ] Models have been built.\n",
      "2022-12-01 04:23:39 [info     ] Model parameters are saved to d3rlpy_logs/Pendulum/BCQ_actor_Adam_critic_Adam_imitator_Adam_20221201035912/model_38808.pt\n",
      "Deployment: -659.6954366161958\n",
      "\n",
      "2022-12-01 04:24:10 [warning  ] Unused arguments are passed.   alpha_optim_factory=d3rlpy.models.optimizers.OptimizerFactory(optim_cls='Adam') temp_optim_factory=d3rlpy.models.optimizers.OptimizerFactory(optim_cls='Adam')\n",
      "2022-12-01 04:24:10 [debug    ] RoundIterator is selected.\n",
      "2022-12-01 04:24:10 [info     ] Directory is created at d3rlpy_logs/Pendulum/BCQ_actor_Adam_critic_Adam_imitator_SamAdam_20221201042410\n",
      "2022-12-01 04:24:10 [debug    ] Building models...\n",
      "2022-12-01 04:24:10 [debug    ] Models have been built.\n",
      "2022-12-01 04:49:32 [info     ] Model parameters are saved to d3rlpy_logs/Pendulum/BCQ_actor_Adam_critic_Adam_imitator_SamAdam_20221201042410/model_38808.pt\n",
      "Deployment: -629.4960129388622\n",
      "\n",
      "2022-12-01 04:50:04 [warning  ] Unused arguments are passed.   alpha_optim_factory=d3rlpy.models.optimizers.OptimizerFactory(optim_cls='Adam') temp_optim_factory=d3rlpy.models.optimizers.OptimizerFactory(optim_cls='Adam')\n",
      "2022-12-01 04:50:04 [debug    ] RoundIterator is selected.\n",
      "2022-12-01 04:50:04 [info     ] Directory is created at d3rlpy_logs/Pendulum/BCQ_actor_Adam_critic_SamAdam_imitator_Adam_20221201045004\n",
      "2022-12-01 04:50:04 [debug    ] Building models...\n",
      "2022-12-01 04:50:04 [debug    ] Models have been built.\n",
      "2022-12-01 05:26:42 [info     ] Model parameters are saved to d3rlpy_logs/Pendulum/BCQ_actor_Adam_critic_SamAdam_imitator_Adam_20221201045004/model_38808.pt\n",
      "Deployment: -883.7292178033395\n",
      "\n",
      "2022-12-01 05:27:28 [warning  ] Unused arguments are passed.   alpha_optim_factory=d3rlpy.models.optimizers.OptimizerFactory(optim_cls='Adam') temp_optim_factory=d3rlpy.models.optimizers.OptimizerFactory(optim_cls='Adam')\n",
      "2022-12-01 05:27:28 [debug    ] RoundIterator is selected.\n",
      "2022-12-01 05:27:28 [info     ] Directory is created at d3rlpy_logs/Pendulum/BCQ_actor_Adam_critic_SamAdam_imitator_SamAdam_20221201052728\n",
      "2022-12-01 05:27:28 [debug    ] Building models...\n",
      "2022-12-01 05:27:28 [debug    ] Models have been built.\n",
      "2022-12-01 06:04:47 [info     ] Model parameters are saved to d3rlpy_logs/Pendulum/BCQ_actor_Adam_critic_SamAdam_imitator_SamAdam_20221201052728/model_38808.pt\n",
      "Deployment: -758.5204899066032\n",
      "\n",
      "2022-12-01 06:05:33 [warning  ] Unused arguments are passed.   alpha_optim_factory=d3rlpy.models.optimizers.OptimizerFactory(optim_cls='Adam') temp_optim_factory=d3rlpy.models.optimizers.OptimizerFactory(optim_cls='Adam')\n",
      "2022-12-01 06:05:33 [debug    ] RoundIterator is selected.\n",
      "2022-12-01 06:05:33 [info     ] Directory is created at d3rlpy_logs/Pendulum/BCQ_actor_SamAdam_critic_Adam_imitator_Adam_20221201060533\n",
      "2022-12-01 06:05:33 [debug    ] Building models...\n",
      "2022-12-01 06:05:33 [debug    ] Models have been built.\n",
      "2022-12-01 06:31:04 [info     ] Model parameters are saved to d3rlpy_logs/Pendulum/BCQ_actor_SamAdam_critic_Adam_imitator_Adam_20221201060533/model_38808.pt\n",
      "Deployment: -959.7915808436921\n",
      "\n",
      "2022-12-01 06:31:36 [warning  ] Unused arguments are passed.   alpha_optim_factory=d3rlpy.models.optimizers.OptimizerFactory(optim_cls='Adam') temp_optim_factory=d3rlpy.models.optimizers.OptimizerFactory(optim_cls='Adam')\n",
      "2022-12-01 06:31:36 [debug    ] RoundIterator is selected.\n",
      "2022-12-01 06:31:36 [info     ] Directory is created at d3rlpy_logs/Pendulum/BCQ_actor_SamAdam_critic_Adam_imitator_SamAdam_20221201063136\n",
      "2022-12-01 06:31:36 [debug    ] Building models...\n",
      "2022-12-01 06:31:36 [debug    ] Models have been built.\n",
      "2022-12-01 06:57:50 [info     ] Model parameters are saved to d3rlpy_logs/Pendulum/BCQ_actor_SamAdam_critic_Adam_imitator_SamAdam_20221201063136/model_38808.pt\n",
      "Deployment: -965.5482955669331\n",
      "\n",
      "2022-12-01 06:58:22 [warning  ] Unused arguments are passed.   alpha_optim_factory=d3rlpy.models.optimizers.OptimizerFactory(optim_cls='Adam') temp_optim_factory=d3rlpy.models.optimizers.OptimizerFactory(optim_cls='Adam')\n",
      "2022-12-01 06:58:22 [debug    ] RoundIterator is selected.\n",
      "2022-12-01 06:58:22 [info     ] Directory is created at d3rlpy_logs/Pendulum/BCQ_actor_SamAdam_critic_SamAdam_imitator_Adam_20221201065822\n",
      "2022-12-01 06:58:22 [debug    ] Building models...\n",
      "2022-12-01 06:58:22 [debug    ] Models have been built.\n",
      "2022-12-01 07:35:46 [info     ] Model parameters are saved to d3rlpy_logs/Pendulum/BCQ_actor_SamAdam_critic_SamAdam_imitator_Adam_20221201065822/model_38808.pt\n",
      "Deployment: -676.9944983246927\n",
      "\n",
      "2022-12-01 07:36:32 [warning  ] Unused arguments are passed.   alpha_optim_factory=d3rlpy.models.optimizers.OptimizerFactory(optim_cls='Adam') temp_optim_factory=d3rlpy.models.optimizers.OptimizerFactory(optim_cls='Adam')\n",
      "2022-12-01 07:36:32 [debug    ] RoundIterator is selected.\n",
      "2022-12-01 07:36:32 [info     ] Directory is created at d3rlpy_logs/Pendulum/BCQ_actor_SamAdam_critic_SamAdam_imitator_SamAdam_20221201073632\n",
      "2022-12-01 07:36:32 [debug    ] Building models...\n",
      "2022-12-01 07:36:32 [debug    ] Models have been built.\n",
      "2022-12-01 08:14:46 [info     ] Model parameters are saved to d3rlpy_logs/Pendulum/BCQ_actor_SamAdam_critic_SamAdam_imitator_SamAdam_20221201073632/model_38808.pt\n",
      "Deployment: -719.7238889479937\n",
      "\n",
      "2022-12-01 08:15:33 [debug    ] RoundIterator is selected.\n",
      "2022-12-01 08:15:33 [info     ] Directory is created at d3rlpy_logs/Pendulum/BEAR_actor_Adam_critic_Adam_imitator_Adam_20221201081533\n",
      "2022-12-01 08:15:33 [debug    ] Building models...\n",
      "2022-12-01 08:15:33 [debug    ] Models have been built.\n",
      "2022-12-01 08:24:08 [info     ] Model parameters are saved to d3rlpy_logs/Pendulum/BEAR_actor_Adam_critic_Adam_imitator_Adam_20221201081533/model_15141.pt\n",
      "Deployment: -816.1679745093313\n",
      "\n",
      "2022-12-01 08:24:19 [debug    ] RoundIterator is selected.\n",
      "2022-12-01 08:24:19 [info     ] Directory is created at d3rlpy_logs/Pendulum/BEAR_actor_Adam_critic_Adam_imitator_SamAdam_20221201082419\n",
      "2022-12-01 08:24:19 [debug    ] Building models...\n",
      "2022-12-01 08:24:19 [debug    ] Models have been built.\n",
      "2022-12-01 08:33:21 [info     ] Model parameters are saved to d3rlpy_logs/Pendulum/BEAR_actor_Adam_critic_Adam_imitator_SamAdam_20221201082419/model_15141.pt\n",
      "Deployment: -677.3667335086824\n",
      "\n",
      "2022-12-01 08:33:33 [debug    ] RoundIterator is selected.\n",
      "2022-12-01 08:33:33 [info     ] Directory is created at d3rlpy_logs/Pendulum/BEAR_actor_Adam_critic_SamAdam_imitator_Adam_20221201083333\n",
      "2022-12-01 08:33:33 [debug    ] Building models...\n",
      "2022-12-01 08:33:33 [debug    ] Models have been built.\n",
      "2022-12-01 08:43:26 [info     ] Model parameters are saved to d3rlpy_logs/Pendulum/BEAR_actor_Adam_critic_SamAdam_imitator_Adam_20221201083333/model_15141.pt\n",
      "Deployment: -1004.6220057748609\n",
      "\n",
      "2022-12-01 08:43:39 [debug    ] RoundIterator is selected.\n",
      "2022-12-01 08:43:39 [info     ] Directory is created at d3rlpy_logs/Pendulum/BEAR_actor_Adam_critic_SamAdam_imitator_SamAdam_20221201084339\n",
      "2022-12-01 08:43:39 [debug    ] Building models...\n",
      "2022-12-01 08:43:39 [debug    ] Models have been built.\n",
      "2022-12-01 08:53:55 [info     ] Model parameters are saved to d3rlpy_logs/Pendulum/BEAR_actor_Adam_critic_SamAdam_imitator_SamAdam_20221201084339/model_15141.pt\n",
      "Deployment: -934.0077230037932\n",
      "\n",
      "2022-12-01 08:54:09 [debug    ] RoundIterator is selected.\n",
      "2022-12-01 08:54:09 [info     ] Directory is created at d3rlpy_logs/Pendulum/BEAR_actor_SamAdam_critic_Adam_imitator_Adam_20221201085409\n",
      "2022-12-01 08:54:09 [debug    ] Building models...\n",
      "2022-12-01 08:54:09 [debug    ] Models have been built.\n",
      "2022-12-01 09:03:10 [info     ] Model parameters are saved to d3rlpy_logs/Pendulum/BEAR_actor_SamAdam_critic_Adam_imitator_Adam_20221201085409/model_15141.pt\n",
      "Deployment: -622.8820327149198\n",
      "\n",
      "2022-12-01 09:03:22 [debug    ] RoundIterator is selected.\n",
      "2022-12-01 09:03:22 [info     ] Directory is created at d3rlpy_logs/Pendulum/BEAR_actor_SamAdam_critic_Adam_imitator_SamAdam_20221201090322\n",
      "2022-12-01 09:03:22 [debug    ] Building models...\n",
      "2022-12-01 09:03:22 [debug    ] Models have been built.\n",
      "2022-12-01 09:12:50 [info     ] Model parameters are saved to d3rlpy_logs/Pendulum/BEAR_actor_SamAdam_critic_Adam_imitator_SamAdam_20221201090322/model_15141.pt\n",
      "Deployment: -661.1835301055654\n",
      "\n",
      "2022-12-01 09:13:02 [debug    ] RoundIterator is selected.\n",
      "2022-12-01 09:13:02 [info     ] Directory is created at d3rlpy_logs/Pendulum/BEAR_actor_SamAdam_critic_SamAdam_imitator_Adam_20221201091302\n",
      "2022-12-01 09:13:02 [debug    ] Building models...\n",
      "2022-12-01 09:13:02 [debug    ] Models have been built.\n",
      "2022-12-01 09:23:22 [info     ] Model parameters are saved to d3rlpy_logs/Pendulum/BEAR_actor_SamAdam_critic_SamAdam_imitator_Adam_20221201091302/model_15141.pt\n",
      "Deployment: -594.5942531922811\n",
      "\n",
      "2022-12-01 09:23:35 [debug    ] RoundIterator is selected.\n",
      "2022-12-01 09:23:35 [info     ] Directory is created at d3rlpy_logs/Pendulum/BEAR_actor_SamAdam_critic_SamAdam_imitator_SamAdam_20221201092335\n",
      "2022-12-01 09:23:35 [debug    ] Building models...\n",
      "2022-12-01 09:23:35 [debug    ] Models have been built.\n",
      "2022-12-01 09:34:20 [info     ] Model parameters are saved to d3rlpy_logs/Pendulum/BEAR_actor_SamAdam_critic_SamAdam_imitator_SamAdam_20221201092335/model_15141.pt\n",
      "Deployment: -1317.2762396936992\n",
      "\n",
      "2022-12-01 09:34:33 [debug    ] RoundIterator is selected.\n",
      "2022-12-01 09:34:33 [info     ] Directory is created at d3rlpy_logs/Pendulum/CQL_actor_Adam_critic_Adam_20221201093433\n",
      "2022-12-01 09:34:33 [debug    ] Building models...\n",
      "2022-12-01 09:34:33 [debug    ] Models have been built.\n",
      "2022-12-01 09:48:56 [info     ] Model parameters are saved to d3rlpy_logs/Pendulum/CQL_actor_Adam_critic_Adam_20221201093433/model_15141.pt\n",
      "Deployment: -764.8605032388156\n",
      "\n",
      "2022-12-01 09:49:14 [debug    ] RoundIterator is selected.\n",
      "2022-12-01 09:49:14 [info     ] Directory is created at d3rlpy_logs/Pendulum/CQL_actor_Adam_critic_SamAdam_20221201094914\n",
      "2022-12-01 09:49:14 [debug    ] Building models...\n",
      "2022-12-01 09:49:14 [debug    ] Models have been built.\n",
      "2022-12-01 10:09:58 [info     ] Model parameters are saved to d3rlpy_logs/Pendulum/CQL_actor_Adam_critic_SamAdam_20221201094914/model_15141.pt\n",
      "Deployment: -1336.5410136390797\n",
      "\n",
      "2022-12-01 10:10:23 [debug    ] RoundIterator is selected.\n",
      "2022-12-01 10:10:23 [info     ] Directory is created at d3rlpy_logs/Pendulum/CQL_actor_SamAdam_critic_Adam_20221201101023\n",
      "2022-12-01 10:10:23 [debug    ] Building models...\n",
      "2022-12-01 10:10:23 [debug    ] Models have been built.\n",
      "2022-12-01 10:25:08 [info     ] Model parameters are saved to d3rlpy_logs/Pendulum/CQL_actor_SamAdam_critic_Adam_20221201101023/model_15141.pt\n",
      "Deployment: -677.4156390995083\n",
      "\n",
      "2022-12-01 10:25:27 [debug    ] RoundIterator is selected.\n",
      "2022-12-01 10:25:27 [info     ] Directory is created at d3rlpy_logs/Pendulum/CQL_actor_SamAdam_critic_SamAdam_20221201102527\n",
      "2022-12-01 10:25:27 [debug    ] Building models...\n",
      "2022-12-01 10:25:27 [debug    ] Models have been built.\n",
      "2022-12-01 10:46:38 [info     ] Model parameters are saved to d3rlpy_logs/Pendulum/CQL_actor_SamAdam_critic_SamAdam_20221201102527/model_15141.pt\n",
      "Deployment: -1344.2650236056593\n",
      "\n",
      "2022-12-01 10:47:05 [warning  ] Unused arguments are passed.   alpha_optim_factory=d3rlpy.models.optimizers.OptimizerFactory(optim_cls='Adam') temp_optim_factory=d3rlpy.models.optimizers.OptimizerFactory(optim_cls='Adam')\n",
      "2022-12-01 10:47:05 [debug    ] RoundIterator is selected.\n",
      "2022-12-01 10:47:05 [info     ] Directory is created at d3rlpy_logs/Pendulum/AWAC_actor_Adam_critic_Adam_20221201104705\n",
      "2022-12-01 10:47:05 [debug    ] Building models...\n",
      "2022-12-01 10:47:05 [debug    ] Models have been built.\n",
      "2022-12-01 10:48:19 [info     ] Model parameters are saved to d3rlpy_logs/Pendulum/AWAC_actor_Adam_critic_Adam_20221201104705/model_3773.pt\n",
      "Deployment: -731.3826485447584\n",
      "\n",
      "2022-12-01 10:48:21 [warning  ] Unused arguments are passed.   alpha_optim_factory=d3rlpy.models.optimizers.OptimizerFactory(optim_cls='Adam') temp_optim_factory=d3rlpy.models.optimizers.OptimizerFactory(optim_cls='Adam')\n",
      "2022-12-01 10:48:21 [debug    ] RoundIterator is selected.\n",
      "2022-12-01 10:48:21 [info     ] Directory is created at d3rlpy_logs/Pendulum/AWAC_actor_Adam_critic_SamAdam_20221201104821\n",
      "2022-12-01 10:48:21 [debug    ] Building models...\n",
      "2022-12-01 10:48:21 [debug    ] Models have been built.\n",
      "2022-12-01 10:49:50 [info     ] Model parameters are saved to d3rlpy_logs/Pendulum/AWAC_actor_Adam_critic_SamAdam_20221201104821/model_3773.pt\n",
      "Deployment: -1026.7332865212843\n",
      "\n",
      "2022-12-01 10:49:52 [warning  ] Unused arguments are passed.   alpha_optim_factory=d3rlpy.models.optimizers.OptimizerFactory(optim_cls='Adam') temp_optim_factory=d3rlpy.models.optimizers.OptimizerFactory(optim_cls='Adam')\n",
      "2022-12-01 10:49:52 [debug    ] RoundIterator is selected.\n",
      "2022-12-01 10:49:52 [info     ] Directory is created at d3rlpy_logs/Pendulum/AWAC_actor_SamAdam_critic_Adam_20221201104952\n",
      "2022-12-01 10:49:52 [debug    ] Building models...\n",
      "2022-12-01 10:49:52 [debug    ] Models have been built.\n",
      "2022-12-01 10:51:19 [info     ] Model parameters are saved to d3rlpy_logs/Pendulum/AWAC_actor_SamAdam_critic_Adam_20221201104952/model_3773.pt\n",
      "Deployment: -958.3129394145537\n",
      "\n",
      "2022-12-01 10:51:22 [warning  ] Unused arguments are passed.   alpha_optim_factory=d3rlpy.models.optimizers.OptimizerFactory(optim_cls='Adam') temp_optim_factory=d3rlpy.models.optimizers.OptimizerFactory(optim_cls='Adam')\n",
      "2022-12-01 10:51:22 [debug    ] RoundIterator is selected.\n",
      "2022-12-01 10:51:22 [info     ] Directory is created at d3rlpy_logs/Pendulum/AWAC_actor_SamAdam_critic_SamAdam_20221201105122\n",
      "2022-12-01 10:51:22 [debug    ] Building models...\n",
      "2022-12-01 10:51:22 [debug    ] Models have been built.\n",
      "2022-12-01 10:53:06 [info     ] Model parameters are saved to d3rlpy_logs/Pendulum/AWAC_actor_SamAdam_critic_SamAdam_20221201105122/model_3773.pt\n",
      "Deployment: -1134.6498481076592\n",
      "\n",
      "2022-12-01 10:53:09 [warning  ] Unused arguments are passed.   alpha_optim_factory=d3rlpy.models.optimizers.OptimizerFactory(optim_cls='Adam') temp_optim_factory=d3rlpy.models.optimizers.OptimizerFactory(optim_cls='Adam')\n",
      "2022-12-01 10:53:09 [debug    ] RoundIterator is selected.\n",
      "2022-12-01 10:53:09 [info     ] Directory is created at d3rlpy_logs/Pendulum/IQL_actor_Adam_critic_Adam_20221201105309\n",
      "2022-12-01 10:53:09 [debug    ] Building models...\n",
      "2022-12-01 10:53:09 [debug    ] Models have been built.\n",
      "2022-12-01 10:55:03 [info     ] Model parameters are saved to d3rlpy_logs/Pendulum/IQL_actor_Adam_critic_Adam_20221201105309/model_15141.pt\n",
      "Deployment: -958.8537488451163\n",
      "\n",
      "2022-12-01 10:55:06 [warning  ] Unused arguments are passed.   alpha_optim_factory=d3rlpy.models.optimizers.OptimizerFactory(optim_cls='Adam') temp_optim_factory=d3rlpy.models.optimizers.OptimizerFactory(optim_cls='Adam')\n",
      "2022-12-01 10:55:06 [debug    ] RoundIterator is selected.\n",
      "2022-12-01 10:55:06 [info     ] Directory is created at d3rlpy_logs/Pendulum/IQL_actor_Adam_critic_SamAdam_20221201105506\n",
      "2022-12-01 10:55:06 [debug    ] Building models...\n",
      "2022-12-01 10:55:06 [debug    ] Models have been built.\n",
      "2022-12-01 10:57:33 [info     ] Model parameters are saved to d3rlpy_logs/Pendulum/IQL_actor_Adam_critic_SamAdam_20221201105506/model_15141.pt\n",
      "Deployment: -1258.2901622126242\n",
      "\n",
      "2022-12-01 10:57:36 [warning  ] Unused arguments are passed.   alpha_optim_factory=d3rlpy.models.optimizers.OptimizerFactory(optim_cls='Adam') temp_optim_factory=d3rlpy.models.optimizers.OptimizerFactory(optim_cls='Adam')\n",
      "2022-12-01 10:57:36 [debug    ] RoundIterator is selected.\n",
      "2022-12-01 10:57:36 [info     ] Directory is created at d3rlpy_logs/Pendulum/IQL_actor_SamAdam_critic_Adam_20221201105736\n",
      "2022-12-01 10:57:36 [debug    ] Building models...\n",
      "2022-12-01 10:57:36 [debug    ] Models have been built.\n",
      "2022-12-01 10:59:48 [info     ] Model parameters are saved to d3rlpy_logs/Pendulum/IQL_actor_SamAdam_critic_Adam_20221201105736/model_15141.pt\n",
      "Deployment: -955.1985128124339\n",
      "\n",
      "2022-12-01 10:59:51 [warning  ] Unused arguments are passed.   alpha_optim_factory=d3rlpy.models.optimizers.OptimizerFactory(optim_cls='Adam') temp_optim_factory=d3rlpy.models.optimizers.OptimizerFactory(optim_cls='Adam')\n",
      "2022-12-01 10:59:51 [debug    ] RoundIterator is selected.\n",
      "2022-12-01 10:59:51 [info     ] Directory is created at d3rlpy_logs/Pendulum/IQL_actor_SamAdam_critic_SamAdam_20221201105951\n",
      "2022-12-01 10:59:51 [debug    ] Building models...\n",
      "2022-12-01 10:59:51 [debug    ] Models have been built.\n",
      "2022-12-01 11:02:40 [info     ] Model parameters are saved to d3rlpy_logs/Pendulum/IQL_actor_SamAdam_critic_SamAdam_20221201105951/model_15141.pt\n",
      "Deployment: -970.1383864790911\n",
      "\n"
     ]
    }
   ],
   "source": [
    "train_episodes, test_episodes = train_test_split(dataset, test_size=0.2) # New split.\n",
    "for algorithm in [DDPG, SAC, TD3, BCQ, BEAR, CQL, AWAC, IQL]:\n",
    "    opt_arguments = algo_opt_lists[algorithm.__name__]\n",
    "    for opts in product(opt_factories.keys(), repeat=len(opt_arguments)):\n",
    "        opt_dict = {opt_type: opt_name for opt_type, opt_name in zip(opt_arguments, opts)}\n",
    "        run(algorithm, opt_dict, train_episodes, test_episodes, use_gpu=False, n_epochs=50)"
   ]
  },
  {
   "cell_type": "code",
   "execution_count": 102,
   "metadata": {},
   "outputs": [
    {
     "name": "stdout",
     "output_type": "stream",
     "text": [
      "2022-12-01 12:41:38 [warning  ] Unused arguments are passed.   alpha_optim_factory=d3rlpy.models.optimizers.OptimizerFactory(optim_cls='Adam') temp_optim_factory=d3rlpy.models.optimizers.OptimizerFactory(optim_cls='Adam')\n",
      "2022-12-01 12:41:38 [debug    ] RoundIterator is selected.\n",
      "2022-12-01 12:41:38 [info     ] Directory is created at d3rlpy_logs/Pendulum/BC_optim_Adam_20221201124138\n",
      "2022-12-01 12:41:38 [debug    ] Building models...\n",
      "2022-12-01 12:41:38 [debug    ] Models have been built.\n",
      "2022-12-01 12:42:05 [info     ] Model parameters are saved to d3rlpy_logs/Pendulum/BC_optim_Adam_20221201124138/model_38808.pt\n",
      "Deployment: -653.3113198285071\n",
      "\n"
     ]
    }
   ],
   "source": [
    "bc = run(\n",
    "    BC, \n",
    "    {opt_type: opt_name for opt_type, opt_name in zip(algo_opt_lists['BC'], ['Adam'])},\n",
    "    train_episodes, None,\n",
    "    n_epochs=50\n",
    ")"
   ]
  },
  {
   "cell_type": "code",
   "execution_count": 112,
   "metadata": {},
   "outputs": [
    {
     "data": {
      "text/plain": [
       "-758.8095278283542"
      ]
     },
     "execution_count": 112,
     "metadata": {},
     "output_type": "execute_result"
    }
   ],
   "source": [
    "d3rlpy.metrics.evaluate_on_environment(env)(bc)"
   ]
  },
  {
   "cell_type": "code",
   "execution_count": null,
   "metadata": {},
   "outputs": [],
   "source": []
  }
 ],
 "metadata": {
  "kernelspec": {
   "display_name": "Python 3.10.8 ('RL')",
   "language": "python",
   "name": "python3"
  },
  "language_info": {
   "codemirror_mode": {
    "name": "ipython",
    "version": 3
   },
   "file_extension": ".py",
   "mimetype": "text/x-python",
   "name": "python",
   "nbconvert_exporter": "python",
   "pygments_lexer": "ipython3",
   "version": "3.10.8"
  },
  "orig_nbformat": 4,
  "vscode": {
   "interpreter": {
    "hash": "f9f500fbd88da4ca9935dd262491c6556111d12d087e6d2d75852c745d7ee377"
   }
  }
 },
 "nbformat": 4,
 "nbformat_minor": 2
}
