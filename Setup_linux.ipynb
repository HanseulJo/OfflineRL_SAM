{
 "cells": [
  {
   "cell_type": "code",
   "execution_count": 1,
   "id": "d8e06e9f",
   "metadata": {},
   "outputs": [
    {
     "name": "stdout",
     "output_type": "stream",
     "text": [
      "Requirement already satisfied: gym in /usr/local/lib/python3.7/site-packages (0.26.2)\n",
      "Requirement already satisfied: cloudpickle>=1.2.0 in /usr/local/lib/python3.7/site-packages (from gym) (1.6.0)\n",
      "Requirement already satisfied: numpy>=1.18.0 in /usr/local/lib/python3.7/site-packages (from gym) (1.19.5)\n",
      "Requirement already satisfied: importlib-metadata>=4.8.0 in /usr/local/lib/python3.7/site-packages (from gym) (5.1.0)\n",
      "Requirement already satisfied: gym-notices>=0.0.4 in /usr/local/lib/python3.7/site-packages (from gym) (0.0.8)\n",
      "Requirement already satisfied: typing-extensions>=3.6.4 in /usr/local/lib/python3.7/site-packages (from importlib-metadata>=4.8.0->gym) (4.4.0)\n",
      "Requirement already satisfied: zipp>=0.5 in /usr/local/lib/python3.7/site-packages (from importlib-metadata>=4.8.0->gym) (3.6.0)\n",
      "\u001b[33mWARNING: Running pip as the 'root' user can result in broken permissions and conflicting behaviour with the system package manager. It is recommended to use a virtual environment instead: https://pip.pypa.io/warnings/venv\u001b[0m\u001b[33m\n",
      "\u001b[0m"
     ]
    }
   ],
   "source": [
    "!pip install gym"
   ]
  },
  {
   "cell_type": "code",
   "execution_count": 2,
   "id": "abb15008",
   "metadata": {},
   "outputs": [
    {
     "name": "stdout",
     "output_type": "stream",
     "text": [
      "Requirement already satisfied: gym[all] in /usr/local/lib/python3.7/site-packages (0.26.2)\n",
      "Requirement already satisfied: gym-notices>=0.0.4 in /usr/local/lib/python3.7/site-packages (from gym[all]) (0.0.8)\n",
      "Requirement already satisfied: importlib-metadata>=4.8.0 in /usr/local/lib/python3.7/site-packages (from gym[all]) (5.1.0)\n",
      "Requirement already satisfied: cloudpickle>=1.2.0 in /usr/local/lib/python3.7/site-packages (from gym[all]) (1.6.0)\n",
      "Requirement already satisfied: numpy>=1.18.0 in /usr/local/lib/python3.7/site-packages (from gym[all]) (1.19.5)\n",
      "Requirement already satisfied: imageio>=2.14.1 in /usr/local/lib/python3.7/site-packages (from gym[all]) (2.22.4)\n",
      "Requirement already satisfied: pygame==2.1.0 in /usr/local/lib/python3.7/site-packages (from gym[all]) (2.1.0)\n",
      "Requirement already satisfied: ale-py~=0.8.0 in /usr/local/lib/python3.7/site-packages (from gym[all]) (0.8.0)\n",
      "Requirement already satisfied: opencv-python>=3.0 in /usr/local/lib/python3.7/site-packages (from gym[all]) (4.5.4.60)\n",
      "Requirement already satisfied: pytest==7.0.1 in /usr/local/lib/python3.7/site-packages (from gym[all]) (7.0.1)\n",
      "Requirement already satisfied: mujoco-py<2.2,>=2.1 in /usr/local/lib/python3.7/site-packages (from gym[all]) (2.1.2.14)\n",
      "Requirement already satisfied: swig==4.* in /usr/local/lib/python3.7/site-packages (from gym[all]) (4.1.0)\n",
      "Requirement already satisfied: matplotlib>=3.0 in /usr/local/lib/python3.7/site-packages (from gym[all]) (3.5.0)\n",
      "Requirement already satisfied: lz4>=3.1.0 in /usr/local/lib/python3.7/site-packages (from gym[all]) (4.0.2)\n",
      "Requirement already satisfied: box2d-py==2.3.5 in /usr/local/lib/python3.7/site-packages (from gym[all]) (2.3.5)\n",
      "Requirement already satisfied: mujoco==2.2 in /usr/local/lib/python3.7/site-packages (from gym[all]) (2.2.0)\n",
      "Requirement already satisfied: moviepy>=1.0.0 in /usr/local/lib/python3.7/site-packages (from gym[all]) (1.0.3)\n",
      "Requirement already satisfied: glfw in /usr/local/lib/python3.7/site-packages (from mujoco==2.2->gym[all]) (2.5.5)\n",
      "Requirement already satisfied: pyopengl in /usr/local/lib/python3.7/site-packages (from mujoco==2.2->gym[all]) (3.1.6)\n",
      "Requirement already satisfied: absl-py in /usr/local/lib/python3.7/site-packages (from mujoco==2.2->gym[all]) (0.15.0)\n",
      "Requirement already satisfied: packaging in /usr/local/lib/python3.7/site-packages (from pytest==7.0.1->gym[all]) (21.3)\n",
      "Requirement already satisfied: iniconfig in /usr/local/lib/python3.7/site-packages (from pytest==7.0.1->gym[all]) (1.1.1)\n",
      "Requirement already satisfied: attrs>=19.2.0 in /usr/local/lib/python3.7/site-packages (from pytest==7.0.1->gym[all]) (21.2.0)\n",
      "Requirement already satisfied: pluggy<2.0,>=0.12 in /usr/local/lib/python3.7/site-packages (from pytest==7.0.1->gym[all]) (1.0.0)\n",
      "Requirement already satisfied: tomli>=1.0.0 in /usr/local/lib/python3.7/site-packages (from pytest==7.0.1->gym[all]) (1.2.2)\n",
      "Requirement already satisfied: py>=1.8.2 in /usr/local/lib/python3.7/site-packages (from pytest==7.0.1->gym[all]) (1.11.0)\n",
      "Requirement already satisfied: importlib-resources in /usr/local/lib/python3.7/site-packages (from ale-py~=0.8.0->gym[all]) (5.4.0)\n",
      "Requirement already satisfied: typing-extensions in /usr/local/lib/python3.7/site-packages (from ale-py~=0.8.0->gym[all]) (4.4.0)\n",
      "Requirement already satisfied: pillow>=8.3.2 in /usr/local/lib/python3.7/site-packages (from imageio>=2.14.1->gym[all]) (8.4.0)\n",
      "Requirement already satisfied: zipp>=0.5 in /usr/local/lib/python3.7/site-packages (from importlib-metadata>=4.8.0->gym[all]) (3.6.0)\n",
      "Requirement already satisfied: kiwisolver>=1.0.1 in /usr/local/lib/python3.7/site-packages (from matplotlib>=3.0->gym[all]) (1.3.2)\n",
      "Requirement already satisfied: fonttools>=4.22.0 in /usr/local/lib/python3.7/site-packages (from matplotlib>=3.0->gym[all]) (4.28.2)\n",
      "Requirement already satisfied: python-dateutil>=2.7 in /usr/local/lib/python3.7/site-packages (from matplotlib>=3.0->gym[all]) (2.8.2)\n",
      "Requirement already satisfied: setuptools-scm>=4 in /usr/local/lib/python3.7/site-packages (from matplotlib>=3.0->gym[all]) (6.3.2)\n",
      "Requirement already satisfied: pyparsing>=2.2.1 in /usr/local/lib/python3.7/site-packages (from matplotlib>=3.0->gym[all]) (3.0.6)\n",
      "Requirement already satisfied: cycler>=0.10 in /usr/local/lib/python3.7/site-packages (from matplotlib>=3.0->gym[all]) (0.11.0)\n",
      "Requirement already satisfied: proglog<=1.0.0 in /usr/local/lib/python3.7/site-packages (from moviepy>=1.0.0->gym[all]) (0.1.10)\n",
      "Requirement already satisfied: requests<3.0,>=2.8.1 in /usr/local/lib/python3.7/site-packages (from moviepy>=1.0.0->gym[all]) (2.26.0)\n",
      "Requirement already satisfied: tqdm<5.0,>=4.11.2 in /usr/local/lib/python3.7/site-packages (from moviepy>=1.0.0->gym[all]) (4.62.3)\n",
      "Requirement already satisfied: decorator<5.0,>=4.0.2 in /usr/local/lib/python3.7/site-packages (from moviepy>=1.0.0->gym[all]) (4.4.2)\n",
      "Requirement already satisfied: imageio-ffmpeg>=0.2.0 in /usr/local/lib/python3.7/site-packages (from moviepy>=1.0.0->gym[all]) (0.4.7)\n",
      "Requirement already satisfied: cffi>=1.10 in /usr/local/lib/python3.7/site-packages (from mujoco-py<2.2,>=2.1->gym[all]) (1.15.0)\n",
      "Requirement already satisfied: fasteners~=0.15 in /usr/local/lib/python3.7/site-packages (from mujoco-py<2.2,>=2.1->gym[all]) (0.18)\n",
      "Requirement already satisfied: Cython>=0.27.2 in /usr/local/lib/python3.7/site-packages (from mujoco-py<2.2,>=2.1->gym[all]) (0.29.32)\n",
      "Requirement already satisfied: pycparser in /usr/local/lib/python3.7/site-packages (from cffi>=1.10->mujoco-py<2.2,>=2.1->gym[all]) (2.21)\n",
      "Requirement already satisfied: six>=1.5 in /usr/local/lib/python3.7/site-packages (from python-dateutil>=2.7->matplotlib>=3.0->gym[all]) (1.15.0)\n",
      "Requirement already satisfied: idna<4,>=2.5 in /usr/local/lib/python3.7/site-packages (from requests<3.0,>=2.8.1->moviepy>=1.0.0->gym[all]) (3.3)\n",
      "Requirement already satisfied: urllib3<1.27,>=1.21.1 in /usr/local/lib/python3.7/site-packages (from requests<3.0,>=2.8.1->moviepy>=1.0.0->gym[all]) (1.26.7)\n",
      "Requirement already satisfied: charset-normalizer~=2.0.0 in /usr/local/lib/python3.7/site-packages (from requests<3.0,>=2.8.1->moviepy>=1.0.0->gym[all]) (2.0.7)\n",
      "Requirement already satisfied: certifi>=2017.4.17 in /usr/local/lib/python3.7/site-packages (from requests<3.0,>=2.8.1->moviepy>=1.0.0->gym[all]) (2021.10.8)\n",
      "Requirement already satisfied: setuptools in /usr/local/lib/python3.7/site-packages (from setuptools-scm>=4->matplotlib>=3.0->gym[all]) (59.2.0)\n",
      "\u001b[33mWARNING: Running pip as the 'root' user can result in broken permissions and conflicting behaviour with the system package manager. It is recommended to use a virtual environment instead: https://pip.pypa.io/warnings/venv\u001b[0m\u001b[33m\n",
      "\u001b[0m"
     ]
    }
   ],
   "source": [
    "!pip install \"gym[all]\""
   ]
  },
  {
   "cell_type": "code",
   "execution_count": 3,
   "id": "15b53cd2",
   "metadata": {},
   "outputs": [
    {
     "name": "stdout",
     "output_type": "stream",
     "text": [
      "Hit:1 https://deb.nodesource.com/node_12.x bionic InRelease\n",
      "Hit:2 http://archive.ubuntu.com/ubuntu bionic InRelease                        \n",
      "Hit:3 http://security.ubuntu.com/ubuntu bionic-security InRelease              \n",
      "Get:4 https://developer.download.nvidia.com/compute/cuda/repos/ubuntu1804/x86_64  InRelease [1581 B]\n",
      "Hit:5 http://archive.ubuntu.com/ubuntu bionic-updates InRelease                \n",
      "Hit:6 http://archive.ubuntu.com/ubuntu bionic-backports InRelease        \n",
      "Ign:7 https://developer.download.nvidia.com/compute/machine-learning/repos/ubuntu1804/x86_64  InRelease\n",
      "Err:4 https://developer.download.nvidia.com/compute/cuda/repos/ubuntu1804/x86_64  InRelease\n",
      "  The following signatures couldn't be verified because the public key is not available: NO_PUBKEY A4B469963BF863CC\n",
      "Hit:8 https://developer.download.nvidia.com/compute/machine-learning/repos/ubuntu1804/x86_64  Release\n",
      "Reading package lists... Done                      \n",
      "W: Target Packages (main/binary-amd64/Packages) is configured multiple times in /etc/apt/sources.list:44 and /etc/apt/sources.list:50\n",
      "W: Target Packages (main/binary-all/Packages) is configured multiple times in /etc/apt/sources.list:44 and /etc/apt/sources.list:50\n",
      "W: GPG error: https://developer.download.nvidia.com/compute/cuda/repos/ubuntu1804/x86_64  InRelease: The following signatures couldn't be verified because the public key is not available: NO_PUBKEY A4B469963BF863CC\n",
      "E: The repository 'https://developer.download.nvidia.com/compute/cuda/repos/ubuntu1804/x86_64  InRelease' is not signed.\n",
      "N: Updating from such a repository can't be done securely, and is therefore disabled by default.\n",
      "N: See apt-secure(8) manpage for repository creation and user configuration details.\n",
      "W: Target Packages (main/binary-amd64/Packages) is configured multiple times in /etc/apt/sources.list:44 and /etc/apt/sources.list:50\n",
      "W: Target Packages (main/binary-all/Packages) is configured multiple times in /etc/apt/sources.list:44 and /etc/apt/sources.list:50\n"
     ]
    }
   ],
   "source": [
    "!apt-get update"
   ]
  },
  {
   "cell_type": "code",
   "execution_count": 4,
   "id": "4e35e3df",
   "metadata": {},
   "outputs": [
    {
     "name": "stdout",
     "output_type": "stream",
     "text": [
      "Reading package lists... Done\n",
      "Building dependency tree       \n",
      "Reading state information... Done\n",
      "libglfw3 is already the newest version (3.2.1-1).\n",
      "libgl1-mesa-glx is already the newest version (20.0.8-0ubuntu1~18.04.1).\n",
      "libosmesa6-dev is already the newest version (20.0.8-0ubuntu1~18.04.1).\n",
      "0 upgraded, 0 newly installed, 0 to remove and 129 not upgraded.\n",
      "W: Target Packages (main/binary-amd64/Packages) is configured multiple times in /etc/apt/sources.list:44 and /etc/apt/sources.list:50\n",
      "W: Target Packages (main/binary-all/Packages) is configured multiple times in /etc/apt/sources.list:44 and /etc/apt/sources.list:50\n"
     ]
    }
   ],
   "source": [
    "# ref: https://github.com/openai/mujoco-py#install-mujoco\n",
    "!sudo apt-get install libosmesa6-dev libgl1-mesa-glx libglfw3 "
   ]
  },
  {
   "cell_type": "code",
   "execution_count": 5,
   "id": "7f01adde",
   "metadata": {},
   "outputs": [
    {
     "name": "stdout",
     "output_type": "stream",
     "text": [
      "ln: failed to create symbolic link '/usr/lib/x86_64-linux-gnu/libGL.so': File exists\n"
     ]
    }
   ],
   "source": [
    "# ref: https://github.com/openai/mujoco-py#install-mujoco\n",
    "!sudo ln -s /usr/lib/x86_64-linux-gnu/libGL.so.1 /usr/lib/x86_64-linux-gnu/libGL.so"
   ]
  },
  {
   "cell_type": "code",
   "execution_count": 6,
   "id": "44829350",
   "metadata": {},
   "outputs": [
    {
     "name": "stdout",
     "output_type": "stream",
     "text": [
      "Reading package lists... Done\n",
      "Building dependency tree       \n",
      "Reading state information... Done\n",
      "patchelf is already the newest version (0.9-1).\n",
      "0 upgraded, 0 newly installed, 0 to remove and 129 not upgraded.\n",
      "W: Target Packages (main/binary-amd64/Packages) is configured multiple times in /etc/apt/sources.list:44 and /etc/apt/sources.list:50\n",
      "W: Target Packages (main/binary-all/Packages) is configured multiple times in /etc/apt/sources.list:44 and /etc/apt/sources.list:50\n"
     ]
    }
   ],
   "source": [
    "# ref: https://github.com/openai/mujoco-py/issues/652\n",
    "!sudo apt-get install patchelf"
   ]
  },
  {
   "cell_type": "code",
   "execution_count": 7,
   "id": "acc8b458",
   "metadata": {},
   "outputs": [
    {
     "name": "stdout",
     "output_type": "stream",
     "text": [
      "/usr/local/ssl/lib:/usr/local/cuda/extras/CUPTI/lib64:/usr/local/cuda/lib64:/usr/local/nvidia/lib64:/usr/include/x86_64-linux-gnu\n"
     ]
    }
   ],
   "source": [
    "import os\n",
    "print(os.environ['LD_LIBRARY_PATH'])\n",
    "os.environ['LD_LIBRARY_PATH']='$LD_LIBRARY_PATH:/root/.mujoco/mujoco210/bin'"
   ]
  },
  {
   "cell_type": "code",
   "execution_count": 8,
   "id": "e6b39d55",
   "metadata": {},
   "outputs": [
    {
     "name": "stdout",
     "output_type": "stream",
     "text": [
      "$LD_LIBRARY_PATH:/root/.mujoco/mujoco210/bin\n"
     ]
    }
   ],
   "source": [
    "!echo $LD_LIBRARY_PATH"
   ]
  },
  {
   "cell_type": "code",
   "execution_count": 9,
   "id": "1e4b225b",
   "metadata": {},
   "outputs": [
    {
     "name": "stdout",
     "output_type": "stream",
     "text": [
      "LD_LIBRARY_PATH=$LD_LIBRARY_PATH:/root/.mujoco/mujoco210/bin\n"
     ]
    }
   ],
   "source": [
    "!env | grep LD_LIBRARY_PATH"
   ]
  },
  {
   "cell_type": "code",
   "execution_count": 11,
   "id": "fc474174",
   "metadata": {},
   "outputs": [],
   "source": [
    "!python -c \"import mujoco_py\""
   ]
  },
  {
   "cell_type": "code",
   "execution_count": 12,
   "id": "079ee522",
   "metadata": {},
   "outputs": [
    {
     "name": "stdout",
     "output_type": "stream",
     "text": [
      "Cloning into 'd3rlpy_GitHub'...\n",
      "remote: Enumerating objects: 11427, done.\u001b[K\n",
      "remote: Counting objects: 100% (729/729), done.\u001b[K\n",
      "remote: Compressing objects: 100% (326/326), done.\u001b[K\n",
      "remote: Total 11427 (delta 437), reused 617 (delta 391), pack-reused 10698\u001b[K\n",
      "Receiving objects: 100% (11427/11427), 20.67 MiB | 1.14 MiB/s, done.\n",
      "Resolving deltas: 100% (8309/8309), done.\n",
      "Obtaining file:///root/d3rlpy_GitHub\n",
      "  Preparing metadata (setup.py) ... \u001b[?25ldone\n",
      "\u001b[?25hRequirement already satisfied: torch in /usr/local/lib/python3.7/site-packages (from d3rlpy==1.1.1) (1.8.1+cu111)\n",
      "Requirement already satisfied: scikit-learn in /usr/local/lib/python3.7/site-packages (from d3rlpy==1.1.1) (1.0.1)\n",
      "Requirement already satisfied: tensorboardX in /usr/local/lib/python3.7/site-packages (from d3rlpy==1.1.1) (2.1)\n",
      "Requirement already satisfied: tqdm in /usr/local/lib/python3.7/site-packages (from d3rlpy==1.1.1) (4.62.3)\n",
      "Requirement already satisfied: h5py in /usr/local/lib/python3.7/site-packages (from d3rlpy==1.1.1) (3.1.0)\n",
      "Requirement already satisfied: gym in /usr/local/lib/python3.7/site-packages (from d3rlpy==1.1.1) (0.26.2)\n",
      "Requirement already satisfied: click in /usr/local/lib/python3.7/site-packages (from d3rlpy==1.1.1) (8.0.1)\n",
      "Requirement already satisfied: typing-extensions in /usr/local/lib/python3.7/site-packages (from d3rlpy==1.1.1) (4.4.0)\n",
      "Requirement already satisfied: scipy in /usr/local/lib/python3.7/site-packages (from d3rlpy==1.1.1) (1.7.2)\n",
      "Collecting structlog\n",
      "  Downloading structlog-22.3.0-py3-none-any.whl (61 kB)\n",
      "\u001b[2K     \u001b[90m━━━━━━━━━━━━━━━━━━━━━━━━━━━━━━━━━━━━━━━━\u001b[0m \u001b[32m61.7/61.7 kB\u001b[0m \u001b[31m13.0 MB/s\u001b[0m eta \u001b[36m0:00:00\u001b[0m\n",
      "\u001b[?25hRequirement already satisfied: colorama in /usr/local/lib/python3.7/site-packages (from d3rlpy==1.1.1) (0.4.4)\n",
      "Requirement already satisfied: importlib-metadata in /usr/local/lib/python3.7/site-packages (from click->d3rlpy==1.1.1) (5.1.0)\n",
      "Requirement already satisfied: cloudpickle>=1.2.0 in /usr/local/lib/python3.7/site-packages (from gym->d3rlpy==1.1.1) (1.6.0)\n",
      "Requirement already satisfied: gym-notices>=0.0.4 in /usr/local/lib/python3.7/site-packages (from gym->d3rlpy==1.1.1) (0.0.8)\n",
      "Requirement already satisfied: numpy>=1.18.0 in /usr/local/lib/python3.7/site-packages (from gym->d3rlpy==1.1.1) (1.19.5)\n",
      "Requirement already satisfied: cached-property in /usr/local/lib/python3.7/site-packages (from h5py->d3rlpy==1.1.1) (1.5.2)\n",
      "Requirement already satisfied: threadpoolctl>=2.0.0 in /usr/local/lib/python3.7/site-packages (from scikit-learn->d3rlpy==1.1.1) (3.0.0)\n",
      "Requirement already satisfied: joblib>=0.11 in /usr/local/lib/python3.7/site-packages (from scikit-learn->d3rlpy==1.1.1) (1.1.0)\n",
      "Requirement already satisfied: six in /usr/local/lib/python3.7/site-packages (from tensorboardX->d3rlpy==1.1.1) (1.15.0)\n",
      "Requirement already satisfied: protobuf>=3.8.0 in /usr/local/lib/python3.7/site-packages (from tensorboardX->d3rlpy==1.1.1) (3.19.1)\n",
      "Requirement already satisfied: zipp>=0.5 in /usr/local/lib/python3.7/site-packages (from importlib-metadata->click->d3rlpy==1.1.1) (3.6.0)\n",
      "Installing collected packages: structlog, d3rlpy\n",
      "  Running setup.py develop for d3rlpy\n",
      "Successfully installed d3rlpy-1.1.1 structlog-22.3.0\n",
      "\u001b[33mWARNING: Running pip as the 'root' user can result in broken permissions and conflicting behaviour with the system package manager. It is recommended to use a virtual environment instead: https://pip.pypa.io/warnings/venv\u001b[0m\u001b[33m\n",
      "\u001b[0mNote: you may need to restart the kernel to use updated packages.\n"
     ]
    }
   ],
   "source": [
    "!git clone https://github.com/takuseno/d3rlpy d3rlpy_GitHub\n",
    "%pip install -e d3rlpy_GitHub/\n",
    "%mv d3rlpy_GitHub/d3rlpy .\n",
    "%rm -rf d3rlpy_GitHub/"
   ]
  },
  {
   "cell_type": "code",
   "execution_count": 13,
   "id": "b7e9537f",
   "metadata": {},
   "outputs": [
    {
     "name": "stdout",
     "output_type": "stream",
     "text": [
      "Archive:  changes.zip\n",
      "   creating: changes/\n",
      "  inflating: changes/.DS_Store       \n",
      "  inflating: __MACOSX/changes/._.DS_Store  \n",
      "  inflating: changes/datasets.py     \n",
      "  inflating: changes/logger.py       \n",
      "   creating: changes/algos/\n",
      "  inflating: changes/algos/bc.py     \n",
      "  inflating: changes/algos/.DS_Store  \n",
      "  inflating: __MACOSX/changes/algos/._.DS_Store  \n",
      "  inflating: changes/algos/td3.py    \n",
      "  inflating: changes/algos/iql.py    \n",
      "  inflating: changes/algos/bear.py   \n",
      "  inflating: changes/algos/plas.py   \n",
      "  inflating: changes/algos/bcq.py    \n",
      "  inflating: changes/algos/random_policy.py  \n",
      "  inflating: changes/algos/utility.py  \n",
      "  inflating: changes/algos/__init__.py  \n",
      "   creating: changes/algos/torch/\n",
      "  inflating: changes/algos/nfq.py    \n",
      "  inflating: changes/algos/cql.py    \n",
      "  inflating: changes/algos/sac.py    \n",
      "  inflating: changes/algos/ddpg.py   \n",
      "  inflating: changes/algos/awac.py   \n",
      "  inflating: changes/algos/crr.py    \n",
      "  inflating: changes/algos/combo.py  \n",
      "  inflating: changes/algos/dqn.py    \n",
      "  inflating: changes/algos/mopo.py   \n",
      "  inflating: changes/algos/base.py   \n",
      "  inflating: changes/algos/td3_plus_bc.py  \n",
      "  inflating: changes/algos/torch/td3_impl.py  \n",
      "  inflating: changes/algos/torch/td3_plus_bc_impl.py  \n",
      "  inflating: changes/algos/torch/plas_impl.py  \n",
      "  inflating: changes/algos/torch/dqn_impl.py  \n",
      "  inflating: changes/algos/torch/cql_impl.py  \n",
      "  inflating: changes/algos/torch/.DS_Store  \n",
      "  inflating: __MACOSX/changes/algos/torch/._.DS_Store  \n",
      "  inflating: changes/algos/torch/bcq_impl.py  \n",
      "  inflating: changes/algos/torch/changelog.md  \n",
      "  inflating: changes/algos/torch/bear_impl.py  \n",
      "  inflating: changes/algos/torch/utility.py  \n",
      "  inflating: changes/algos/torch/ddpg_impl.py  \n",
      "  inflating: changes/algos/torch/iql_impl.py  \n",
      "  inflating: changes/algos/torch/__init__.py  \n",
      "  inflating: changes/algos/torch/awac_impl.py  \n",
      "  inflating: changes/algos/torch/bc_impl.py  \n",
      "  inflating: changes/algos/torch/sac_impl.py  \n",
      "  inflating: changes/algos/torch/combo_impl.py  \n",
      "  inflating: changes/algos/torch/crr_impl.py  \n",
      "  inflating: changes/algos/torch/base.py  \n"
     ]
    }
   ],
   "source": [
    "#!unzip changes.zip\n",
    "%cp -rf changes/algos/* d3rlpy/algos/\n",
    "%rm -rf changes/algos/\n",
    "%mv -f changes/* d3rlpy/\n",
    "#%rm changes.zip\n",
    "#%rm changes"
   ]
  },
  {
   "cell_type": "code",
   "execution_count": null,
   "id": "0435b64b",
   "metadata": {},
   "outputs": [],
   "source": [
    "%pip install gym~=0.21 importlib-metadata~=4.0"
   ]
  },
  {
   "cell_type": "code",
   "execution_count": null,
   "id": "a67cf363",
   "metadata": {},
   "outputs": [],
   "source": [
    "%pip install \"git+https://github.com/takuseno/d4rl-atari\"\n",
    "%pip install \"git+https://github.com/Farama-Foundation/d4rl@master#egg=d4rl\""
   ]
  },
  {
   "cell_type": "code",
   "execution_count": null,
   "id": "24483b89",
   "metadata": {},
   "outputs": [],
   "source": [
    "%pip install protobuf~=3.20"
   ]
  }
 ],
 "metadata": {
  "kernelspec": {
   "display_name": "Full on Python 3.7 (GPU)",
   "language": "python",
   "name": "python3"
  },
  "language_info": {
   "codemirror_mode": {
    "name": "ipython",
    "version": 3
   },
   "file_extension": ".py",
   "mimetype": "text/x-python",
   "name": "python",
   "nbconvert_exporter": "python",
   "pygments_lexer": "ipython3",
   "version": "3.7.11"
  }
 },
 "nbformat": 4,
 "nbformat_minor": 5
}
